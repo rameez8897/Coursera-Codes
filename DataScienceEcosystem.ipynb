{
 "cells": [
  {
   "cell_type": "markdown",
   "id": "03c30ab9-9ea9-4774-aabf-cc10418860fe",
   "metadata": {},
   "source": [
    "# Data Science Tools and Ecosystem"
   ]
  },
  {
   "cell_type": "markdown",
   "id": "a9a34683-fcb6-48f4-af9a-cd5449fd6000",
   "metadata": {},
   "source": [
    "### In this notebook, Data Science Tools and Ecosystem are summarized."
   ]
  },
  {
   "cell_type": "markdown",
   "id": "ca2f8133-a27e-469f-b391-9258069df223",
   "metadata": {},
   "source": [
    "# Some of the popular languages that Data Scientists use are:\n",
    "1. Python\n",
    "2. R\n",
    "3. Scala"
   ]
  },
  {
   "cell_type": "markdown",
   "id": "9a414b02-ca88-45ce-99ce-c81747ba4726",
   "metadata": {},
   "source": [
    "# Some of the commonly used libraries used by Data Scientists include:\n",
    "1. Pandas\n",
    "2. Numpy\n",
    "3. Matplotlib"
   ]
  },
  {
   "cell_type": "markdown",
   "id": "f75cf7d2-b6db-4b1c-bb27-3ac26f516240",
   "metadata": {
    "tags": []
   },
   "source": [
    "# Data Science Tools\n",
    "1. VS Code\n",
    "2. Jupyter Notebook\n",
    "3. JupyterLab"
   ]
  },
  {
   "cell_type": "markdown",
   "id": "08bb526c-d03f-41ba-8e15-7e2bd8ec8e44",
   "metadata": {
    "tags": []
   },
   "source": [
    "### Below are a few examples of evaluating arithmetic expressions in Python"
   ]
  },
  {
   "cell_type": "code",
   "execution_count": 4,
   "id": "42515a4d-d6e5-4619-9eb0-2574fbd7dcf0",
   "metadata": {
    "tags": []
   },
   "outputs": [
    {
     "data": {
      "text/plain": [
       "17"
      ]
     },
     "execution_count": 4,
     "metadata": {},
     "output_type": "execute_result"
    }
   ],
   "source": [
    "#This a simple arithmetic expression to mutiply then add integers\n",
    "(3*4)+5"
   ]
  },
  {
   "cell_type": "code",
   "execution_count": 5,
   "id": "4786343f-5b72-49ee-8a5b-7fe7508c2c32",
   "metadata": {
    "tags": []
   },
   "outputs": [
    {
     "data": {
      "text/plain": [
       "3.3333333333333335"
      ]
     },
     "execution_count": 5,
     "metadata": {},
     "output_type": "execute_result"
    }
   ],
   "source": [
    "#This will convert 200 minutes to hours by diving by 60\n",
    "hours= 200/60\n",
    "hours"
   ]
  },
  {
   "cell_type": "markdown",
   "id": "ab2ca44a-a69a-4ec8-9aea-5994cacaef20",
   "metadata": {},
   "source": [
    "Objectives:\n",
    "\n",
    "Data Science Libraries\n",
    "Data Manipulation and visualizations tools\n",
    "R Language"
   ]
  },
  {
   "cell_type": "markdown",
   "id": "7c5fdaf7-7ef1-44c7-b1cd-2859a9d61479",
   "metadata": {},
   "source": [
    "## Name:\n",
    "    \n",
    "Rameez Ahmad"
   ]
  },
  {
   "cell_type": "code",
   "execution_count": null,
   "id": "e6caff2a-7d59-476a-be19-358da18608e8",
   "metadata": {},
   "outputs": [],
   "source": []
  }
 ],
 "metadata": {
  "kernelspec": {
   "display_name": "Python",
   "language": "python",
   "name": "conda-env-python-py"
  },
  "language_info": {
   "codemirror_mode": {
    "name": "ipython",
    "version": 3
   },
   "file_extension": ".py",
   "mimetype": "text/x-python",
   "name": "python",
   "nbconvert_exporter": "python",
   "pygments_lexer": "ipython3",
   "version": "3.7.12"
  }
 },
 "nbformat": 4,
 "nbformat_minor": 5
}
